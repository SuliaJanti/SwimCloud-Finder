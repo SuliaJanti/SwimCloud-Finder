{
 "cells": [
  {
   "cell_type": "code",
   "execution_count": 1,
   "metadata": {},
   "outputs": [],
   "source": [
    "from selenium import webdriver\n",
    "from selenium.webdriver.chrome.service import Service\n",
    "from selenium.webdriver.common.by import By\n",
    "import pandas as pd\n",
    "from webdriver_manager.chrome import ChromeDriverManager"
   ]
  },
  {
   "cell_type": "code",
   "execution_count": null,
   "metadata": {},
   "outputs": [
    {
     "name": "stderr",
     "output_type": "stream",
     
    }
   ],
   "source": [
    "races = ['150', '1100', '1200', '1200', '1500', '11000', '11650', '2100', '2200', '3100', '3200', '4100', '4200', '5200', '5400'] \n",
    "base_url = \"https://www.swimcloud.com/country/usa/college/division/2/times/?dont_group=false&event=\"\n",
    "all_tables = []\n",
    "\n",
    "# Set up Chrome WebDriver\n",
    "driver = webdriver.Chrome(service=Service(ChromeDriverManager().install()))\n",
    "\n",
    "for j in races: \n",
    "    url = f'{base_url}{j}&gender=F&page=1&region=division_2&season_id=28&team_id&year' #change the gender for 'M' Male and 'F' female\n",
    "    driver.get(url)  # Open the page\n",
    "\n",
    "    # Extract the table\n",
    "    table = driver.find_element(By.TAG_NAME, 'table')\n",
    "    \n",
    "    # Convert the HTML of the table to a DataFrame\n",
    "    html = table.get_attribute('outerHTML')\n",
    "    df = pd.read_html(html)[0]\n",
    "    df['Race'] = j  # Add a column to indicate the race ID\n",
    "    all_tables.append(df)  # Append the table to the list\n",
    "\n",
    "driver.quit()  # Close the browser\n",
    "\n",
    "# Combine all tables into one DataFrame\n",
    "final_df = pd.concat(all_tables, ignore_index=True)\n"
   ]
  }
 ],
 "metadata": {
  "kernelspec": {
   "display_name": "Python 3",
   "language": "python",
   "name": "python3"
  },
  "language_info": {
   "codemirror_mode": {
    "name": "ipython",
    "version": 3
   },
   "file_extension": ".py",
   "mimetype": "text/x-python",
   "name": "python",
   "nbconvert_exporter": "python",
   "pygments_lexer": "ipython3",
   "version": "3.11.3"
  }
 },
 "nbformat": 4,
 "nbformat_minor": 2
}
