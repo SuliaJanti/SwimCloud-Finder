{
 "cells": [
  {
   "cell_type": "code",
   "execution_count": 3,
   "metadata": {},
   "outputs": [],
   "source": [
    "import pandas as pd\n",
    "import numpy as np"
   ]
  },
  {
   "cell_type": "code",
   "execution_count": 17,
   "metadata": {},
   "outputs": [],
   "source": [
    "races = ['150','1100','1200','1200','1500','11000','11650','2100','2200','3100','3200','4100','4200','5200','5400']\n",
    "base_url = \"https://www.swimcloud.com/results/310368/event/\" #change the base url depending on the desired conference\n",
    "all_tables = []\n",
    "for j in races: \n",
    "    url = f'{base_url}{j}M/'\n",
    "    base_html = pd.read_html(url)\n",
    "    table = base_html[0]  # Get the first table from the page\n",
    "    table['Race'] = j  # Add a column to indicate the race ID\n",
    "    all_tables.append(table)  # Append the table to the list\n",
    "\n",
    "\n",
    "\n"
   ]
  }
 ],
 "metadata": {
  "kernelspec": {
   "display_name": "Python 3",
   "language": "python",
   "name": "python3"
  },
  "language_info": {
   "codemirror_mode": {
    "name": "ipython",
    "version": 3
   },
   "file_extension": ".py",
   "mimetype": "text/x-python",
   "name": "python",
   "nbconvert_exporter": "python",
   "pygments_lexer": "ipython3",
   "version": "3.11.3"
  }
 },
 "nbformat": 4,
 "nbformat_minor": 2
}
