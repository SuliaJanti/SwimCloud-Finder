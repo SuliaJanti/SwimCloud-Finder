{
 "cells": [
  {
   "cell_type": "code",
   "execution_count": 31,
   "metadata": {},
   "outputs": [],
   "source": [
    "from selenium import webdriver\n",
    "from selenium.webdriver.chrome.service import Service\n",
    "from selenium.webdriver.common.by import By\n",
    "import pandas as pd\n",
    "from webdriver_manager.chrome import ChromeDriverManager\n",
    "import time\n",
    "from io import StringIO"
   ]
  },
  {
   "cell_type": "code",
   "execution_count": 32,
   "metadata": {},
   "outputs": [],
   "source": [
    "races = ['150', '1100', '1200', '1200', '1500', '11000', '11650', '2100', '2200', '3100', '3200', '4100', '4200', '5200', '5400'] \n",
    "base_url = \"https://www.swimcloud.com/country/usa/college/division/2/times/?dont_group=false&event=\"\n",
    "all_tables = []\n",
    "\n",
    "# Set up Chrome WebDriver\n",
    "driver = webdriver.Chrome(service=Service(ChromeDriverManager().install()))\n",
    "\n",
    "for j in races: \n",
    "    url = f'{base_url}{j}&gender=F&page=1&region=division_2&season_id=28&team_id&year' #change the gender for 'M' Male and 'F' female\n",
    "    driver.get(url)  # Open the page\n",
    "\n",
    "    time.sleep(3)\n",
    "    # Extract the table\n",
    "    table = driver.find_element(By.TAG_NAME, 'table')\n",
    "    \n",
    "    # Convert the HTML of the table to a DataFrame\n",
    "    html = table.get_attribute('outerHTML')\n",
    "    df = pd.read_html(StringIO(html))[0]\n",
    "    print(f\"Found race {j}\")\n",
    "    df['Race'] = j  # Add a column to indicate the race ID\n",
    "    all_tables.append(df)  # Append the table to the list\n",
    "\n",
    "driver.quit()  # Close the browser\n",
    "\n",
    "# Combine all tables into one DataFrame\n",
    "final_df = pd.concat(all_tables, ignore_index=True)"
   ]
  },
  {
   "cell_type": "code",
   "execution_count": 77,
   "metadata": {},
   "outputs": [
    {
     "name": "stdout",
     "output_type": "stream",
     "text": [
      "Name                                  25\n",
      "Name.1                      Anika Wright\n",
      "Meet                                 NaN\n",
      "Time          Calvin Winter Invitational\n",
      "Flags                            4:27.61\n",
      "Unnamed: 5                          D2 B\n",
      "Race                                5400\n",
      "Name: 24, dtype: object\n",
      "Name                                           8\n",
      "Name.1                           Shannah Dillman\n",
      "Meet                                         NaN\n",
      "Time          Delta State Christmas Invitational\n",
      "Flags                                    4:20.21\n",
      "Unnamed: 5                                  D2 B\n",
      "Race                                        5400\n",
      "Name: 7, dtype: object\n",
      "Name                                  16\n",
      "Name.1                 Vittoria Proietti\n",
      "Meet                                 NaN\n",
      "Time          Calvin Winter Invitational\n",
      "Flags                            4:24.76\n",
      "Unnamed: 5                          D2 B\n",
      "Race                                5400\n",
      "Name: 15, dtype: object\n"
     ]
    }
   ],
   "source": [
    "fifty_df = final_df[final_df[\"Race\"] == \"150\"].reset_index(drop=True)\n",
    "hundred_df = final_df[final_df[\"Race\"] == \"1100\"].reset_index(drop=True)\n",
    "two_hundred_df = final_df[final_df[\"Race\"] == \"1200\"].reset_index(drop=True)\n",
    "five_hundred_df = final_df[final_df[\"Race\"] == \"1500\"].reset_index(drop=True)\n",
    "thousand_df = final_df[final_df[\"Race\"] == \"11000\"].reset_index(drop=True)\n",
    "mile_df = final_df[final_df[\"Race\"] == \"11650\"].reset_index(drop=True)\n",
    "\n",
    "back_1_df = final_df[final_df[\"Race\"] == \"2100\"].reset_index(drop=True)\n",
    "back_2_df = final_df[final_df[\"Race\"] == \"2200\"].reset_index(drop=True)\n",
    "\n",
    "breast_1_df = final_df[final_df[\"Race\"] == \"3100\"].reset_index(drop=True)\n",
    "breast_2_df = final_df[final_df[\"Race\"] == \"3200\"].reset_index(drop=True)\n",
    "\n",
    "fly_1_df = final_df[final_df[\"Race\"] == \"4100\"].reset_index(drop=True)\n",
    "fly_2_df = final_df[final_df[\"Race\"] == \"4200\"].reset_index(drop=True)\n",
    "\n",
    "im_2_df = final_df[final_df[\"Race\"] == \"5200\"].reset_index(drop=True)\n",
    "im_4_df = final_df[final_df[\"Race\"] == \"5400\"].reset_index(drop=True)\n",
    "\n",
    "#find the 25th, 8th, and 16th time \n",
    "print(im_4_df.iloc[24]) #change for the race you want to see\n",
    "print(im_4_df.iloc[7])\n",
    "print(im_4_df.iloc[15])\n",
    "\n"
   ]
  }
 ],
 "metadata": {
  "kernelspec": {
   "display_name": "Python 3",
   "language": "python",
   "name": "python3"
  },
  "language_info": {
   "codemirror_mode": {
    "name": "ipython",
    "version": 3
   },
   "file_extension": ".py",
   "mimetype": "text/x-python",
   "name": "python",
   "nbconvert_exporter": "python",
   "pygments_lexer": "ipython3",
   "version": "3.11.3"
  }
 },
 "nbformat": 4,
 "nbformat_minor": 2
}
